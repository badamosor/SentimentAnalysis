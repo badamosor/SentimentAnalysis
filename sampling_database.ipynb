{
 "cells": [
  {
   "cell_type": "markdown",
   "metadata": {},
   "source": [
    " ### Sentiment analysis on skin care products"
   ]
  },
  {
   "cell_type": "markdown",
   "metadata": {},
   "source": [
    "# *Sampling database*"
   ]
  },
  {
   "cell_type": "markdown",
   "metadata": {},
   "source": [
    "##  1. Read the data into pandas data frame"
   ]
  },
  {
   "cell_type": "code",
   "execution_count": 1,
   "metadata": {},
   "outputs": [],
   "source": [
    "import pandas as pd\n",
    "\n",
    "df = pd.read_csv('reviews_skin_care.csv.gz', compression='gzip')"
   ]
  },
  {
   "cell_type": "markdown",
   "metadata": {},
   "source": [
    "## 2. Explore the data"
   ]
  },
  {
   "cell_type": "markdown",
   "metadata": {},
   "source": [
    "### *2.1 Overall data*"
   ]
  },
  {
   "cell_type": "code",
   "execution_count": 2,
   "metadata": {
    "scrolled": false
   },
   "outputs": [
    {
     "data": {
      "text/html": [
       "<div>\n",
       "<style scoped>\n",
       "    .dataframe tbody tr th:only-of-type {\n",
       "        vertical-align: middle;\n",
       "    }\n",
       "\n",
       "    .dataframe tbody tr th {\n",
       "        vertical-align: top;\n",
       "    }\n",
       "\n",
       "    .dataframe thead th {\n",
       "        text-align: right;\n",
       "    }\n",
       "</style>\n",
       "<table border=\"1\" class=\"dataframe\">\n",
       "  <thead>\n",
       "    <tr style=\"text-align: right;\">\n",
       "      <th></th>\n",
       "      <th>reviewerID</th>\n",
       "      <th>asin</th>\n",
       "      <th>reviewerName</th>\n",
       "      <th>helpful</th>\n",
       "      <th>reviewText</th>\n",
       "      <th>overall</th>\n",
       "      <th>summary</th>\n",
       "      <th>unixReviewTime</th>\n",
       "      <th>reviewTime</th>\n",
       "    </tr>\n",
       "  </thead>\n",
       "  <tbody>\n",
       "    <tr>\n",
       "      <th>0</th>\n",
       "      <td>A39HTATAQ9V7YF</td>\n",
       "      <td>0205616461</td>\n",
       "      <td>cheryl roberts</td>\n",
       "      <td>[0, 0]</td>\n",
       "      <td>i do love this moisturizer and would recommend...</td>\n",
       "      <td>5.0</td>\n",
       "      <td>bio-active anti-aging serum</td>\n",
       "      <td>1369699200</td>\n",
       "      <td>05 28, 2013</td>\n",
       "    </tr>\n",
       "    <tr>\n",
       "      <th>1</th>\n",
       "      <td>A1WMRR494NWEWV</td>\n",
       "      <td>0733001998</td>\n",
       "      <td>Amazon Shopper</td>\n",
       "      <td>[0, 0]</td>\n",
       "      <td>A nice moisturizer, all natural ingredients an...</td>\n",
       "      <td>4.0</td>\n",
       "      <td>Nice Moisturizer</td>\n",
       "      <td>1382572800</td>\n",
       "      <td>10 24, 2013</td>\n",
       "    </tr>\n",
       "    <tr>\n",
       "      <th>2</th>\n",
       "      <td>A327B0I7CYTEJC</td>\n",
       "      <td>130414643X</td>\n",
       "      <td>Sheri Hamlin</td>\n",
       "      <td>[0, 0]</td>\n",
       "      <td>Dark circles under the eyes runs in my family ...</td>\n",
       "      <td>4.0</td>\n",
       "      <td>I really like this stuff.</td>\n",
       "      <td>1389052800</td>\n",
       "      <td>01 7, 2014</td>\n",
       "    </tr>\n",
       "    <tr>\n",
       "      <th>3</th>\n",
       "      <td>A1BG8QW55XHN6U</td>\n",
       "      <td>130414643X</td>\n",
       "      <td>Victoria</td>\n",
       "      <td>[0, 0]</td>\n",
       "      <td>I have purchased on Amazon . This was the firs...</td>\n",
       "      <td>5.0</td>\n",
       "      <td>love this product</td>\n",
       "      <td>1372032000</td>\n",
       "      <td>06 24, 2013</td>\n",
       "    </tr>\n",
       "    <tr>\n",
       "      <th>4</th>\n",
       "      <td>AIFAAVTUYHEHB</td>\n",
       "      <td>130414643X</td>\n",
       "      <td>zoya</td>\n",
       "      <td>[0, 0]</td>\n",
       "      <td>Is there  any difference between the one typed...</td>\n",
       "      <td>4.0</td>\n",
       "      <td>the smell and color are different</td>\n",
       "      <td>1378252800</td>\n",
       "      <td>09 4, 2013</td>\n",
       "    </tr>\n",
       "    <tr>\n",
       "      <th>...</th>\n",
       "      <td>...</td>\n",
       "      <td>...</td>\n",
       "      <td>...</td>\n",
       "      <td>...</td>\n",
       "      <td>...</td>\n",
       "      <td>...</td>\n",
       "      <td>...</td>\n",
       "      <td>...</td>\n",
       "      <td>...</td>\n",
       "    </tr>\n",
       "    <tr>\n",
       "      <th>629294</th>\n",
       "      <td>A3LGT6UZL99IW1</td>\n",
       "      <td>B00LLPT4HI</td>\n",
       "      <td>Richard C. Drew \"Anaal Nathra/Uthe vas Bethod...</td>\n",
       "      <td>[0, 0]</td>\n",
       "      <td>I have very dry elbows and knees.  I have a to...</td>\n",
       "      <td>5.0</td>\n",
       "      <td>This stuff is amazing!</td>\n",
       "      <td>1405382400</td>\n",
       "      <td>07 15, 2014</td>\n",
       "    </tr>\n",
       "    <tr>\n",
       "      <th>629295</th>\n",
       "      <td>ASKZO80Z1RKTR</td>\n",
       "      <td>B00LLPT4HI</td>\n",
       "      <td>Robin Lee</td>\n",
       "      <td>[1, 1]</td>\n",
       "      <td>This 100% Organic Raw Unrefined African Shea B...</td>\n",
       "      <td>5.0</td>\n",
       "      <td>\"Wonderful and Soothing Moisturizer\"........</td>\n",
       "      <td>1405209600</td>\n",
       "      <td>07 13, 2014</td>\n",
       "    </tr>\n",
       "    <tr>\n",
       "      <th>629296</th>\n",
       "      <td>A1A7EBY8XJ46PA</td>\n",
       "      <td>B00LLPT4HI</td>\n",
       "      <td>R.Wang</td>\n",
       "      <td>[0, 0]</td>\n",
       "      <td>I live in a hot dry climate and didn't find th...</td>\n",
       "      <td>5.0</td>\n",
       "      <td>TERRIFIC!</td>\n",
       "      <td>1405728000</td>\n",
       "      <td>07 19, 2014</td>\n",
       "    </tr>\n",
       "    <tr>\n",
       "      <th>629297</th>\n",
       "      <td>A1HQ0KTGWQIWYI</td>\n",
       "      <td>B00LLPT4HI</td>\n",
       "      <td>Sunny SMOOTH</td>\n",
       "      <td>[0, 0]</td>\n",
       "      <td>Delivery time was very fast. This butter works...</td>\n",
       "      <td>5.0</td>\n",
       "      <td>Fast delivery, and smooth skin</td>\n",
       "      <td>1405900800</td>\n",
       "      <td>07 21, 2014</td>\n",
       "    </tr>\n",
       "    <tr>\n",
       "      <th>629298</th>\n",
       "      <td>A3UJRNI8UR4871</td>\n",
       "      <td>B00LLPT4HI</td>\n",
       "      <td>Wulfstan \"wulfstan\"</td>\n",
       "      <td>[0, 1]</td>\n",
       "      <td>This is 100% pure Shea Butter. Do not mistake ...</td>\n",
       "      <td>5.0</td>\n",
       "      <td>The \"Real Stuff\"!</td>\n",
       "      <td>1405987200</td>\n",
       "      <td>07 22, 2014</td>\n",
       "    </tr>\n",
       "  </tbody>\n",
       "</table>\n",
       "<p>629299 rows × 9 columns</p>\n",
       "</div>"
      ],
      "text/plain": [
       "            reviewerID        asin  \\\n",
       "0       A39HTATAQ9V7YF  0205616461   \n",
       "1       A1WMRR494NWEWV  0733001998   \n",
       "2       A327B0I7CYTEJC  130414643X   \n",
       "3       A1BG8QW55XHN6U  130414643X   \n",
       "4        AIFAAVTUYHEHB  130414643X   \n",
       "...                ...         ...   \n",
       "629294  A3LGT6UZL99IW1  B00LLPT4HI   \n",
       "629295   ASKZO80Z1RKTR  B00LLPT4HI   \n",
       "629296  A1A7EBY8XJ46PA  B00LLPT4HI   \n",
       "629297  A1HQ0KTGWQIWYI  B00LLPT4HI   \n",
       "629298  A3UJRNI8UR4871  B00LLPT4HI   \n",
       "\n",
       "                                            reviewerName helpful  \\\n",
       "0                                         cheryl roberts  [0, 0]   \n",
       "1                                         Amazon Shopper  [0, 0]   \n",
       "2                                           Sheri Hamlin  [0, 0]   \n",
       "3                                               Victoria  [0, 0]   \n",
       "4                                                   zoya  [0, 0]   \n",
       "...                                                  ...     ...   \n",
       "629294  Richard C. Drew \"Anaal Nathra/Uthe vas Bethod...  [0, 0]   \n",
       "629295                                         Robin Lee  [1, 1]   \n",
       "629296                                            R.Wang  [0, 0]   \n",
       "629297                                      Sunny SMOOTH  [0, 0]   \n",
       "629298                               Wulfstan \"wulfstan\"  [0, 1]   \n",
       "\n",
       "                                               reviewText  overall  \\\n",
       "0       i do love this moisturizer and would recommend...      5.0   \n",
       "1       A nice moisturizer, all natural ingredients an...      4.0   \n",
       "2       Dark circles under the eyes runs in my family ...      4.0   \n",
       "3       I have purchased on Amazon . This was the firs...      5.0   \n",
       "4       Is there  any difference between the one typed...      4.0   \n",
       "...                                                   ...      ...   \n",
       "629294  I have very dry elbows and knees.  I have a to...      5.0   \n",
       "629295  This 100% Organic Raw Unrefined African Shea B...      5.0   \n",
       "629296  I live in a hot dry climate and didn't find th...      5.0   \n",
       "629297  Delivery time was very fast. This butter works...      5.0   \n",
       "629298  This is 100% pure Shea Butter. Do not mistake ...      5.0   \n",
       "\n",
       "                                             summary  unixReviewTime  \\\n",
       "0                        bio-active anti-aging serum      1369699200   \n",
       "1                                   Nice Moisturizer      1382572800   \n",
       "2                          I really like this stuff.      1389052800   \n",
       "3                                  love this product      1372032000   \n",
       "4                  the smell and color are different      1378252800   \n",
       "...                                              ...             ...   \n",
       "629294                        This stuff is amazing!      1405382400   \n",
       "629295  \"Wonderful and Soothing Moisturizer\"........      1405209600   \n",
       "629296                                     TERRIFIC!      1405728000   \n",
       "629297                Fast delivery, and smooth skin      1405900800   \n",
       "629298                             The \"Real Stuff\"!      1405987200   \n",
       "\n",
       "         reviewTime  \n",
       "0       05 28, 2013  \n",
       "1       10 24, 2013  \n",
       "2        01 7, 2014  \n",
       "3       06 24, 2013  \n",
       "4        09 4, 2013  \n",
       "...             ...  \n",
       "629294  07 15, 2014  \n",
       "629295  07 13, 2014  \n",
       "629296  07 19, 2014  \n",
       "629297  07 21, 2014  \n",
       "629298  07 22, 2014  \n",
       "\n",
       "[629299 rows x 9 columns]"
      ]
     },
     "execution_count": 2,
     "metadata": {},
     "output_type": "execute_result"
    }
   ],
   "source": [
    "df"
   ]
  },
  {
   "cell_type": "markdown",
   "metadata": {},
   "source": [
    "*The data has 629299 entries and 9 columns:*\n",
    "\n",
    "- reviewerID - ID of the reviewer\n",
    "- asin - ID of the product\n",
    "- reviewerName - name of the reviewer \n",
    "- helpful - helpfulness rating of the review\n",
    "- reviewText - text of the review \n",
    "- overall - rating of the product \n",
    "- summary - summary of the review \n",
    "- unixReviewTime - time of the review (unix time) \n",
    "- reviewTime - time of the review (raw)"
   ]
  },
  {
   "cell_type": "markdown",
   "metadata": {},
   "source": [
    "*Some rows have missing values (nan). We remove those rows from the dataset.*"
   ]
  },
  {
   "cell_type": "code",
   "execution_count": 3,
   "metadata": {},
   "outputs": [],
   "source": [
    "df = df.dropna()"
   ]
  },
  {
   "cell_type": "code",
   "execution_count": 5,
   "metadata": {},
   "outputs": [
    {
     "data": {
      "text/plain": [
       "625406"
      ]
     },
     "execution_count": 5,
     "metadata": {},
     "output_type": "execute_result"
    }
   ],
   "source": [
    "len(df)"
   ]
  },
  {
   "cell_type": "markdown",
   "metadata": {},
   "source": [
    "*Now we have left with 625406 entries.*"
   ]
  },
  {
   "cell_type": "markdown",
   "metadata": {},
   "source": [
    "### *2.2 Exploring some of the reviews*"
   ]
  },
  {
   "cell_type": "code",
   "execution_count": 7,
   "metadata": {},
   "outputs": [
    {
     "data": {
      "text/plain": [
       "104908                                                                                                                                                                                                        Just a warning, as it is not clear by the labeling or description.  This is not shea butter, it a silicone moisturizer in which shea butter is an ingredient.\n",
       "164291    I got my jojoba oil in my shipment and it was scotch taped shut.  The seal on the inside was gone.  I am assuming this has been returned in the past, or someone filled it with another type of oil.  It smelled very different from the other one I have with the same brand.  This one almost smelled rancid.  I plan to return it and purchase somewhere else.\n",
       "156183                                                                                                                                               I received the bottle of wintergreen oil with the safety foil seal on the bottle unsealed.  As I didn't know if it was a manufacturing defect or if someone tampered with the contents, I discarded the bottle unused.\n",
       "Name: reviewText, dtype: object"
      ]
     },
     "metadata": {},
     "output_type": "display_data"
    }
   ],
   "source": [
    "import random\n",
    "#Randomly select reviews that have the rating 1\n",
    "reviews_1 = df.loc[random.choices(df.loc[df['overall'] == 1].index, k=3)].reviewText\n",
    "reviews_1\n",
    "#Uncomment bellow if you want to read the whole text\n",
    "with pd.option_context('display.max_colwidth', None): display(reviews_1)"
   ]
  },
  {
   "cell_type": "code",
   "execution_count": 8,
   "metadata": {},
   "outputs": [
    {
     "data": {
      "text/plain": [
       "535814                                                                            Used it but cannot see much difference in the brightness part .I am south Asian might be this is not for my skin type .Moisturizes the skin but the glowing effect is not there .I love the c booth volcanic mud mask it used to make my skin clean ,bright and glowing even after a single use ,but I cannot find that mask anywhere don't know why they discontinued it ,still searching for a good mask.\n",
       "91565                                                                                                                                                                                                                                                                                                                                                                    I gave this product two stars because it smelled good!! I have def. had the pleasure of using much better lip balm!!\n",
       "377605    I was so excited to see this on Amazon, as I heard it had been discontinued, and I ordered several bottles.  When it arrived, it was not the \"Exotic Frangipani\" body oil as pictured.  The photo is misleading.  Although the bottle shape is the same, the picture shows the label as saying \"Exotic Frangipani\", but the bottles sent are labeled without the \"Exotic\"  and the formula is different from what I had been using.  Very disappointing, however I kept one bottle.\n",
       "Name: reviewText, dtype: object"
      ]
     },
     "metadata": {},
     "output_type": "display_data"
    }
   ],
   "source": [
    "#Randomly select reviews that have the rating 2\n",
    "reviews_2 = df.loc[random.choices(df.loc[df['overall'] == 2].index, k=3)].reviewText\n",
    "reviews_2\n",
    "#Uncomment bellow if you want to read the whole text\n",
    "with pd.option_context('display.max_colwidth', None): display(reviews_2)"
   ]
  },
  {
   "cell_type": "code",
   "execution_count": 41,
   "metadata": {},
   "outputs": [
    {
     "data": {
      "text/plain": [
       "500056    I was introduced by BB creams from a sample I ...\n",
       "515657    As shea butter can be quite expensive, the pri...\n",
       "431453    The moisturizers work good but, I saw no impro...\n",
       "Name: reviewText, dtype: object"
      ]
     },
     "execution_count": 41,
     "metadata": {},
     "output_type": "execute_result"
    }
   ],
   "source": [
    "#Randomly select reviews that have the rating 3\n",
    "reviews_3 = df.loc[random.choices(df.loc[df['overall'] == 3].index, k=3)].reviewText\n",
    "reviews_3\n",
    "#Uncomment bellow if you want to read the whole text\n",
    "#with pd.option_context('display.max_colwidth', None): display(reviews_3)"
   ]
  },
  {
   "cell_type": "code",
   "execution_count": 42,
   "metadata": {},
   "outputs": [
    {
     "data": {
      "text/plain": [
       "269233    It is good and really moisturizing your skin. ...\n",
       "565071    This sunscreen goes on really well and is very...\n",
       "163972    I think its helping my surface wrinkles, but n...\n",
       "Name: reviewText, dtype: object"
      ]
     },
     "execution_count": 42,
     "metadata": {},
     "output_type": "execute_result"
    }
   ],
   "source": [
    "#Randomly select reviews that have the rating 4\n",
    "reviews_4 = df.loc[random.choices(df.loc[df['overall'] == 4].index, k=3)].reviewText\n",
    "reviews_4\n",
    "#Uncomment bellow if you want to read the whole text\n",
    "#with pd.option_context('display.max_colwidth', None): display(reviews_4)"
   ]
  },
  {
   "cell_type": "code",
   "execution_count": 9,
   "metadata": {},
   "outputs": [
    {
     "data": {
      "text/plain": [
       "332991                                                                                                                                                                                                                                                                                                                                                                                                                                                                 I have been using this for several months. I notice the deep squint lines between my eyes are somewhat lessened as are other lines on my face. I read that a face product is supposed to be most beneficial when used over night so I use it then. I also put it on again first thing after washing my face in the morning and let it soak in before applying moisturizer and my foundation. I recommend it to anyone who wants an affordable retinol cream. In fact, I started using it after my dematologist recommended it, saying it was a good non-prescription retinol product .\n",
       "21672                                                                                                                                                                                                                                                                                                                                                                                                                                                                                                                                                                                                                                           Really didn't think it would work since I had tried other products like Thum.  My 5 year old was not going to stop...but this product stopped his thumbed sucking in less than 4 days.  Awesome!!! Just as an added bonus, I talked his nail biting Dad into trying some as well...I can't believe it is working on him too.  He has been biting his nails for 48 years!!Love it, highly recommend to others.\n",
       "367393    I love this mask. It makes your face so smooth. I use to buy it in the packets but now that I think it may be discontinued I decided to buy the big bottle. It is different from other masks in that it is clear but make no mistake it works. And it means you can wear it around the house without scaring anyone in the house or that comes to the door. I recommend it to anyone that wants a gentle exfoliator. I have cystic acne and I think it helps. It definitely doesn't make it worse. I wear this mask once a week followed by the acne sulfur mask and I think that really helps with my acne.  If my skin is irritated already it might sting/burn a little but other than that it usually does not burn. You only need a little because if you put too much it will run and drip once it heats up with your body temp. Of this bottle I only use 1.5 pumps. I could usually get 2-3 uses out of the packets. You may want to buy the packets first if you haven't tried it but if you like it then this is definitely worth buying.\n",
       "Name: reviewText, dtype: object"
      ]
     },
     "metadata": {},
     "output_type": "display_data"
    }
   ],
   "source": [
    "#Randomly select reviews that have the rating 3\n",
    "reviews_5 = df.loc[random.choices(df.loc[df['overall'] == 5].index, k=3)].reviewText\n",
    "reviews_5\n",
    "#Uncomment bellow if you want to read the whole text\n",
    "with pd.option_context('display.max_colwidth', None): display(reviews_5)"
   ]
  },
  {
   "cell_type": "markdown",
   "metadata": {},
   "source": [
    "### *2.3  Statistics of the ratings*"
   ]
  },
  {
   "cell_type": "code",
   "execution_count": 44,
   "metadata": {},
   "outputs": [
    {
     "data": {
      "text/plain": [
       "count    625406.000000\n",
       "mean          4.203094\n",
       "std           1.274848\n",
       "min           1.000000\n",
       "25%           4.000000\n",
       "50%           5.000000\n",
       "75%           5.000000\n",
       "max           5.000000\n",
       "Name: overall, dtype: float64"
      ]
     },
     "execution_count": 44,
     "metadata": {},
     "output_type": "execute_result"
    }
   ],
   "source": [
    "df.overall.describe()"
   ]
  },
  {
   "cell_type": "markdown",
   "metadata": {},
   "source": [
    "*Average of the ratings was 4.2. Standard deviation (average of how much each rating deviates from the mean) was 1.3\n",
    ". The 25% of the ratings fall bellow 4.0 and 50% of the ratings was below 5.0, and 75% of the ratings was bellow 5.0. Since more than half people gave the rating 5.0 for overall this dataset, the dataset is imbalanced towards positive ratings.*"
   ]
  },
  {
   "cell_type": "code",
   "execution_count": 10,
   "metadata": {
    "scrolled": true
   },
   "outputs": [
    {
     "data": {
      "text/plain": [
       "(array([ 51665.,      0.,  32743.,      0.,      0.,  49387.,      0.,\n",
       "         94727.,      0., 396884.]),\n",
       " array([1. , 1.4, 1.8, 2.2, 2.6, 3. , 3.4, 3.8, 4.2, 4.6, 5. ]),\n",
       " <a list of 10 Patch objects>)"
      ]
     },
     "execution_count": 10,
     "metadata": {},
     "output_type": "execute_result"
    },
    {
     "data": {
      "image/png": "[encoded data removed]",
      "text/plain": [
       "<Figure size 432x288 with 1 Axes>"
      ]
     },
     "metadata": {
      "needs_background": "light"
     },
     "output_type": "display_data"
    }
   ],
   "source": [
    "import matplotlib.pyplot as plt\n",
    "plt.hist(df.overall)"
   ]
  },
  {
   "cell_type": "markdown",
   "metadata": {},
   "source": [
    "*The above histogram also confirms that the dataset has more reviews that has rating 5.*"
   ]
  },
  {
   "cell_type": "markdown",
   "metadata": {},
   "source": [
    "## 3. Sampling"
   ]
  },
  {
   "cell_type": "markdown",
   "metadata": {},
   "source": [
    "*Let's make smaller balanced dataset by sampling. Let's randomly choose 750 reviews from reviews that have ratings 1, 2, 4, and 5, and choose 1500 reviews from reviews that have rating 3.*"
   ]
  },
  {
   "cell_type": "code",
   "execution_count": 12,
   "metadata": {},
   "outputs": [],
   "source": [
    "from imblearn.under_sampling import RandomUnderSampler\n",
    "rus = RandomUnderSampler(sampling_strategy={1:750, 2:750, 3: 1500, 4:750, 5:750},random_state=42)\n",
    "\n",
    "df_resampled, y_resampled = rus.fit_resample(df, df.overall)"
   ]
  },
  {
   "cell_type": "markdown",
   "metadata": {},
   "source": [
    "*After balanced sampling:*"
   ]
  },
  {
   "cell_type": "code",
   "execution_count": 13,
   "metadata": {},
   "outputs": [
    {
     "data": {
      "text/plain": [
       "(array([ 750.,    0.,  750.,    0.,    0., 1500.,    0.,  750.,    0.,\n",
       "         750.]),\n",
       " array([1. , 1.4, 1.8, 2.2, 2.6, 3. , 3.4, 3.8, 4.2, 4.6, 5. ]),\n",
       " <a list of 10 Patch objects>)"
      ]
     },
     "execution_count": 13,
     "metadata": {},
     "output_type": "execute_result"
    },
    {
     "data": {
      "image/png": "[encoded data removed]",
      "text/plain": [
       "<Figure size 432x288 with 1 Axes>"
      ]
     },
     "metadata": {
      "needs_background": "light"
     },
     "output_type": "display_data"
    }
   ],
   "source": [
    "plt.hist(df_resampled.overall)"
   ]
  },
  {
   "cell_type": "markdown",
   "metadata": {},
   "source": [
    "*Extract only text review parts and ratings and save it as small_corpus.*"
   ]
  },
  {
   "cell_type": "code",
   "execution_count": 14,
   "metadata": {},
   "outputs": [],
   "source": [
    "small_corpus = df_resampled[['reviewText', 'overall']]"
   ]
  },
  {
   "cell_type": "code",
   "execution_count": 15,
   "metadata": {},
   "outputs": [
    {
     "data": {
      "text/html": [
       "<div>\n",
       "<style scoped>\n",
       "    .dataframe tbody tr th:only-of-type {\n",
       "        vertical-align: middle;\n",
       "    }\n",
       "\n",
       "    .dataframe tbody tr th {\n",
       "        vertical-align: top;\n",
       "    }\n",
       "\n",
       "    .dataframe thead th {\n",
       "        text-align: right;\n",
       "    }\n",
       "</style>\n",
       "<table border=\"1\" class=\"dataframe\">\n",
       "  <thead>\n",
       "    <tr style=\"text-align: right;\">\n",
       "      <th></th>\n",
       "      <th>reviewText</th>\n",
       "      <th>overall</th>\n",
       "    </tr>\n",
       "  </thead>\n",
       "  <tbody>\n",
       "    <tr>\n",
       "      <th>0</th>\n",
       "      <td>I got soap in a bottle of what is supposted to...</td>\n",
       "      <td>1.0</td>\n",
       "    </tr>\n",
       "    <tr>\n",
       "      <th>1</th>\n",
       "      <td>I used this on my kids and my fair-skinned hus...</td>\n",
       "      <td>1.0</td>\n",
       "    </tr>\n",
       "    <tr>\n",
       "      <th>2</th>\n",
       "      <td>After months of emergency use simply because m...</td>\n",
       "      <td>1.0</td>\n",
       "    </tr>\n",
       "    <tr>\n",
       "      <th>3</th>\n",
       "      <td>The product is a facial cream, but the picture...</td>\n",
       "      <td>1.0</td>\n",
       "    </tr>\n",
       "    <tr>\n",
       "      <th>4</th>\n",
       "      <td>I have been buying olive derived 100% Squalane...</td>\n",
       "      <td>1.0</td>\n",
       "    </tr>\n",
       "    <tr>\n",
       "      <th>...</th>\n",
       "      <td>...</td>\n",
       "      <td>...</td>\n",
       "    </tr>\n",
       "    <tr>\n",
       "      <th>4495</th>\n",
       "      <td>I use it before bed with Speedlash eyelash gro...</td>\n",
       "      <td>5.0</td>\n",
       "    </tr>\n",
       "    <tr>\n",
       "      <th>4496</th>\n",
       "      <td>It might be generic but it does the job withou...</td>\n",
       "      <td>5.0</td>\n",
       "    </tr>\n",
       "    <tr>\n",
       "      <th>4497</th>\n",
       "      <td>I have been using this eye cream for about a y...</td>\n",
       "      <td>5.0</td>\n",
       "    </tr>\n",
       "    <tr>\n",
       "      <th>4498</th>\n",
       "      <td>Exactly as pictured Great product. Will order ...</td>\n",
       "      <td>5.0</td>\n",
       "    </tr>\n",
       "    <tr>\n",
       "      <th>4499</th>\n",
       "      <td>My husband has been using this for over 2 year...</td>\n",
       "      <td>5.0</td>\n",
       "    </tr>\n",
       "  </tbody>\n",
       "</table>\n",
       "<p>4500 rows × 2 columns</p>\n",
       "</div>"
      ],
      "text/plain": [
       "                                             reviewText  overall\n",
       "0     I got soap in a bottle of what is supposted to...      1.0\n",
       "1     I used this on my kids and my fair-skinned hus...      1.0\n",
       "2     After months of emergency use simply because m...      1.0\n",
       "3     The product is a facial cream, but the picture...      1.0\n",
       "4     I have been buying olive derived 100% Squalane...      1.0\n",
       "...                                                 ...      ...\n",
       "4495  I use it before bed with Speedlash eyelash gro...      5.0\n",
       "4496  It might be generic but it does the job withou...      5.0\n",
       "4497  I have been using this eye cream for about a y...      5.0\n",
       "4498  Exactly as pictured Great product. Will order ...      5.0\n",
       "4499  My husband has been using this for over 2 year...      5.0\n",
       "\n",
       "[4500 rows x 2 columns]"
      ]
     },
     "execution_count": 15,
     "metadata": {},
     "output_type": "execute_result"
    }
   ],
   "source": [
    "small_corpus"
   ]
  },
  {
   "cell_type": "code",
   "execution_count": 16,
   "metadata": {},
   "outputs": [],
   "source": [
    "small_corpus = small_corpus.rename(columns={\"reviewText\":\"reviews\", \"overall\":\"rating\"})"
   ]
  },
  {
   "cell_type": "code",
   "execution_count": 17,
   "metadata": {},
   "outputs": [
    {
     "data": {
      "text/html": [
       "<div>\n",
       "<style scoped>\n",
       "    .dataframe tbody tr th:only-of-type {\n",
       "        vertical-align: middle;\n",
       "    }\n",
       "\n",
       "    .dataframe tbody tr th {\n",
       "        vertical-align: top;\n",
       "    }\n",
       "\n",
       "    .dataframe thead th {\n",
       "        text-align: right;\n",
       "    }\n",
       "</style>\n",
       "<table border=\"1\" class=\"dataframe\">\n",
       "  <thead>\n",
       "    <tr style=\"text-align: right;\">\n",
       "      <th></th>\n",
       "      <th>reviews</th>\n",
       "      <th>rating</th>\n",
       "    </tr>\n",
       "  </thead>\n",
       "  <tbody>\n",
       "    <tr>\n",
       "      <th>0</th>\n",
       "      <td>I got soap in a bottle of what is supposted to...</td>\n",
       "      <td>1.0</td>\n",
       "    </tr>\n",
       "    <tr>\n",
       "      <th>1</th>\n",
       "      <td>I used this on my kids and my fair-skinned hus...</td>\n",
       "      <td>1.0</td>\n",
       "    </tr>\n",
       "    <tr>\n",
       "      <th>2</th>\n",
       "      <td>After months of emergency use simply because m...</td>\n",
       "      <td>1.0</td>\n",
       "    </tr>\n",
       "    <tr>\n",
       "      <th>3</th>\n",
       "      <td>The product is a facial cream, but the picture...</td>\n",
       "      <td>1.0</td>\n",
       "    </tr>\n",
       "    <tr>\n",
       "      <th>4</th>\n",
       "      <td>I have been buying olive derived 100% Squalane...</td>\n",
       "      <td>1.0</td>\n",
       "    </tr>\n",
       "    <tr>\n",
       "      <th>...</th>\n",
       "      <td>...</td>\n",
       "      <td>...</td>\n",
       "    </tr>\n",
       "    <tr>\n",
       "      <th>4495</th>\n",
       "      <td>I use it before bed with Speedlash eyelash gro...</td>\n",
       "      <td>5.0</td>\n",
       "    </tr>\n",
       "    <tr>\n",
       "      <th>4496</th>\n",
       "      <td>It might be generic but it does the job withou...</td>\n",
       "      <td>5.0</td>\n",
       "    </tr>\n",
       "    <tr>\n",
       "      <th>4497</th>\n",
       "      <td>I have been using this eye cream for about a y...</td>\n",
       "      <td>5.0</td>\n",
       "    </tr>\n",
       "    <tr>\n",
       "      <th>4498</th>\n",
       "      <td>Exactly as pictured Great product. Will order ...</td>\n",
       "      <td>5.0</td>\n",
       "    </tr>\n",
       "    <tr>\n",
       "      <th>4499</th>\n",
       "      <td>My husband has been using this for over 2 year...</td>\n",
       "      <td>5.0</td>\n",
       "    </tr>\n",
       "  </tbody>\n",
       "</table>\n",
       "<p>4500 rows × 2 columns</p>\n",
       "</div>"
      ],
      "text/plain": [
       "                                                reviews  rating\n",
       "0     I got soap in a bottle of what is supposted to...     1.0\n",
       "1     I used this on my kids and my fair-skinned hus...     1.0\n",
       "2     After months of emergency use simply because m...     1.0\n",
       "3     The product is a facial cream, but the picture...     1.0\n",
       "4     I have been buying olive derived 100% Squalane...     1.0\n",
       "...                                                 ...     ...\n",
       "4495  I use it before bed with Speedlash eyelash gro...     5.0\n",
       "4496  It might be generic but it does the job withou...     5.0\n",
       "4497  I have been using this eye cream for about a y...     5.0\n",
       "4498  Exactly as pictured Great product. Will order ...     5.0\n",
       "4499  My husband has been using this for over 2 year...     5.0\n",
       "\n",
       "[4500 rows x 2 columns]"
      ]
     },
     "execution_count": 17,
     "metadata": {},
     "output_type": "execute_result"
    }
   ],
   "source": [
    "small_corpus"
   ]
  },
  {
   "cell_type": "markdown",
   "metadata": {},
   "source": [
    "*Save the small corpus into csv file.*"
   ]
  },
  {
   "cell_type": "code",
   "execution_count": 18,
   "metadata": {},
   "outputs": [],
   "source": [
    "small_corpus.to_csv(r'small_corpus.csv', index=False)"
   ]
  }
 ],
 "metadata": {
  "kernelspec": {
   "display_name": "Python 3",
   "language": "python",
   "name": "python3"
  },
  "language_info": {
   "codemirror_mode": {
    "name": "ipython",
    "version": 3
   },
   "file_extension": ".py",
   "mimetype": "text/x-python",
   "name": "python",
   "nbconvert_exporter": "python",
   "pygments_lexer": "ipython3",
   "version": "3.8.3"
  }
 },
 "nbformat": 4,
 "nbformat_minor": 4
}

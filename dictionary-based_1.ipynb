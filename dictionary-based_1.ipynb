{
 "cells": [
  {
   "cell_type": "markdown",
   "metadata": {},
   "source": [
    " ### Sentiment analysis on skin care products"
   ]
  },
  {
   "cell_type": "markdown",
   "metadata": {},
   "source": [
    "# *Dictionary-based sentiment analysis (1/2)*"
   ]
  },
  {
   "cell_type": "markdown",
   "metadata": {},
   "source": [
    "*Dictionary-based sentiment analysis uses predefined list of positive and negative words to measure the sentiment score of a text.*"
   ]
  },
  {
   "cell_type": "markdown",
   "metadata": {},
   "source": [
    "##  1. Load the corpus we created in the previous stage (sampling_database)\n"
   ]
  },
  {
   "cell_type": "code",
   "execution_count": 1,
   "metadata": {},
   "outputs": [],
   "source": [
    "import pandas as pd"
   ]
  },
  {
   "cell_type": "code",
   "execution_count": 2,
   "metadata": {},
   "outputs": [],
   "source": [
    "df_small_corpus  = pd.read_csv('small_corpus.csv')"
   ]
  },
  {
   "cell_type": "code",
   "execution_count": 3,
   "metadata": {
    "scrolled": true
   },
   "outputs": [
    {
     "data": {
      "text/html": [
       "<div>\n",
       "<style scoped>\n",
       "    .dataframe tbody tr th:only-of-type {\n",
       "        vertical-align: middle;\n",
       "    }\n",
       "\n",
       "    .dataframe tbody tr th {\n",
       "        vertical-align: top;\n",
       "    }\n",
       "\n",
       "    .dataframe thead th {\n",
       "        text-align: right;\n",
       "    }\n",
       "</style>\n",
       "<table border=\"1\" class=\"dataframe\">\n",
       "  <thead>\n",
       "    <tr style=\"text-align: right;\">\n",
       "      <th></th>\n",
       "      <th>reviews</th>\n",
       "      <th>rating</th>\n",
       "    </tr>\n",
       "  </thead>\n",
       "  <tbody>\n",
       "    <tr>\n",
       "      <th>0</th>\n",
       "      <td>I got soap in a bottle of what is supposted to...</td>\n",
       "      <td>1.0</td>\n",
       "    </tr>\n",
       "    <tr>\n",
       "      <th>1</th>\n",
       "      <td>I used this on my kids and my fair-skinned hus...</td>\n",
       "      <td>1.0</td>\n",
       "    </tr>\n",
       "    <tr>\n",
       "      <th>2</th>\n",
       "      <td>After months of emergency use simply because m...</td>\n",
       "      <td>1.0</td>\n",
       "    </tr>\n",
       "    <tr>\n",
       "      <th>3</th>\n",
       "      <td>The product is a facial cream, but the picture...</td>\n",
       "      <td>1.0</td>\n",
       "    </tr>\n",
       "    <tr>\n",
       "      <th>4</th>\n",
       "      <td>I have been buying olive derived 100% Squalane...</td>\n",
       "      <td>1.0</td>\n",
       "    </tr>\n",
       "  </tbody>\n",
       "</table>\n",
       "</div>"
      ],
      "text/plain": [
       "                                             reviews  rating\n",
       "0  I got soap in a bottle of what is supposted to...     1.0\n",
       "1  I used this on my kids and my fair-skinned hus...     1.0\n",
       "2  After months of emergency use simply because m...     1.0\n",
       "3  The product is a facial cream, but the picture...     1.0\n",
       "4  I have been buying olive derived 100% Squalane...     1.0"
      ]
     },
     "execution_count": 3,
     "metadata": {},
     "output_type": "execute_result"
    }
   ],
   "source": [
    "df_small_corpus.head()"
   ]
  },
  {
   "cell_type": "markdown",
   "metadata": {},
   "source": [
    "##  2. Get the opinion lexicon \n"
   ]
  },
  {
   "cell_type": "markdown",
   "metadata": {},
   "source": [
    "*We use opinion lexicon from nltk corpus package.*"
   ]
  },
  {
   "cell_type": "code",
   "execution_count": 4,
   "metadata": {},
   "outputs": [],
   "source": [
    "import nltk\n",
    "from nltk.corpus import opinion_lexicon"
   ]
  },
  {
   "cell_type": "code",
   "execution_count": 5,
   "metadata": {},
   "outputs": [],
   "source": [
    "pos_words = set(opinion_lexicon.positive())\n",
    "neg_words = set(opinion_lexicon.negative())"
   ]
  },
  {
   "cell_type": "markdown",
   "metadata": {},
   "source": [
    "*Let's check out the length of the each list.*"
   ]
  },
  {
   "cell_type": "code",
   "execution_count": 6,
   "metadata": {},
   "outputs": [
    {
     "data": {
      "text/plain": [
       "(2006, 4783)"
      ]
     },
     "execution_count": 6,
     "metadata": {},
     "output_type": "execute_result"
    }
   ],
   "source": [
    "len(pos_words), len(neg_words)"
   ]
  },
  {
   "cell_type": "markdown",
   "metadata": {},
   "source": [
    "##  3. Calculate the sentiment score \n"
   ]
  },
  {
   "cell_type": "markdown",
   "metadata": {},
   "source": [
    "*We score each review based on the number of the positive or negative words it includes. \n",
    "First we need to tokenize the reviews with the function tokenize(). Since the sentiment lexicon includes different form of words (such as love, loves) we won't lemmatize the tokens here. The sentiment_score() function returns sentiment scores between -1.0 and +1.0 for the given review. -1.0 shows very negative and +1.0 shows very positive.*"
   ]
  },
  {
   "cell_type": "markdown",
   "metadata": {},
   "source": [
    "*Calculating sentiment scores for each review.*"
   ]
  },
  {
   "cell_type": "code",
   "execution_count": 16,
   "metadata": {},
   "outputs": [],
   "source": [
    "from nltk import word_tokenize, sent_tokenize\n",
    "from nltk.corpus import stopwords\n",
    "\n",
    "#Tokenizes text and remove non-alphabetic tokens as well as stopwords.  \n",
    "def tokenize(review):\n",
    "    sentences = sent_tokenize(review)\n",
    "    stop_words = stopwords.words('english')\n",
    "    tokens = []\n",
    "    for sent in sentences:\n",
    "        sent = sent.lower()\n",
    "        words = word_tokenize(sent)\n",
    "        tokens += [word for word in words if (word.isalpha() and word not in stop_words)]\n",
    "    return tokens\n",
    "    \n",
    "\n",
    "def sentiment_score(review):\n",
    "    tokens  = tokenize(review)\n",
    "    pos = 0\n",
    "    neg = 0\n",
    "    for word in tokens:\n",
    "        if word in pos_words:\n",
    "            pos += 1\n",
    "        elif word in neg_words:\n",
    "            neg += 1\n",
    "    if len(tokens) > 0:\n",
    "        return (pos - neg) / len(tokens)\n",
    "    return 0"
   ]
  },
  {
   "cell_type": "code",
   "execution_count": 17,
   "metadata": {},
   "outputs": [],
   "source": [
    "sentiment_scores  = []\n",
    "reviews  = list(df_small_corpus.reviews)\n",
    "for review in reviews:\n",
    "    sentiment_scores.append(sentiment_score(review))"
   ]
  },
  {
   "cell_type": "markdown",
   "metadata": {},
   "source": [
    "##  4. Add the sentiment scores to the data frame "
   ]
  },
  {
   "cell_type": "markdown",
   "metadata": {},
   "source": [
    "*Lets add the sentiment_scores into the df_small_corpus.*"
   ]
  },
  {
   "cell_type": "code",
   "execution_count": 10,
   "metadata": {},
   "outputs": [],
   "source": [
    "df_small_corpus ['dic_based_score'] = sentiment_scores"
   ]
  },
  {
   "cell_type": "code",
   "execution_count": 11,
   "metadata": {},
   "outputs": [
    {
     "data": {
      "text/html": [
       "<div>\n",
       "<style scoped>\n",
       "    .dataframe tbody tr th:only-of-type {\n",
       "        vertical-align: middle;\n",
       "    }\n",
       "\n",
       "    .dataframe tbody tr th {\n",
       "        vertical-align: top;\n",
       "    }\n",
       "\n",
       "    .dataframe thead th {\n",
       "        text-align: right;\n",
       "    }\n",
       "</style>\n",
       "<table border=\"1\" class=\"dataframe\">\n",
       "  <thead>\n",
       "    <tr style=\"text-align: right;\">\n",
       "      <th></th>\n",
       "      <th>reviews</th>\n",
       "      <th>rating</th>\n",
       "      <th>dic_based_score</th>\n",
       "    </tr>\n",
       "  </thead>\n",
       "  <tbody>\n",
       "    <tr>\n",
       "      <th>0</th>\n",
       "      <td>I got soap in a bottle of what is supposted to...</td>\n",
       "      <td>1.0</td>\n",
       "      <td>0.000000</td>\n",
       "    </tr>\n",
       "    <tr>\n",
       "      <th>1</th>\n",
       "      <td>I used this on my kids and my fair-skinned hus...</td>\n",
       "      <td>1.0</td>\n",
       "      <td>0.038462</td>\n",
       "    </tr>\n",
       "    <tr>\n",
       "      <th>2</th>\n",
       "      <td>After months of emergency use simply because m...</td>\n",
       "      <td>1.0</td>\n",
       "      <td>0.028986</td>\n",
       "    </tr>\n",
       "    <tr>\n",
       "      <th>3</th>\n",
       "      <td>The product is a facial cream, but the picture...</td>\n",
       "      <td>1.0</td>\n",
       "      <td>-0.031250</td>\n",
       "    </tr>\n",
       "    <tr>\n",
       "      <th>4</th>\n",
       "      <td>I have been buying olive derived 100% Squalane...</td>\n",
       "      <td>1.0</td>\n",
       "      <td>0.065789</td>\n",
       "    </tr>\n",
       "  </tbody>\n",
       "</table>\n",
       "</div>"
      ],
      "text/plain": [
       "                                             reviews  rating  dic_based_score\n",
       "0  I got soap in a bottle of what is supposted to...     1.0         0.000000\n",
       "1  I used this on my kids and my fair-skinned hus...     1.0         0.038462\n",
       "2  After months of emergency use simply because m...     1.0         0.028986\n",
       "3  The product is a facial cream, but the picture...     1.0        -0.031250\n",
       "4  I have been buying olive derived 100% Squalane...     1.0         0.065789"
      ]
     },
     "execution_count": 11,
     "metadata": {},
     "output_type": "execute_result"
    }
   ],
   "source": [
    "df_small_corpus.head()"
   ]
  },
  {
   "cell_type": "markdown",
   "metadata": {},
   "source": [
    "##  4. Analysis\n"
   ]
  },
  {
   "cell_type": "markdown",
   "metadata": {},
   "source": [
    "### *4.1 Distribution*"
   ]
  },
  {
   "cell_type": "markdown",
   "metadata": {},
   "source": [
    "*Now let's see the distribution of the dictionary-based sentiment scores.*"
   ]
  },
  {
   "cell_type": "code",
   "execution_count": 12,
   "metadata": {},
   "outputs": [
    {
     "data": {
      "text/plain": [
       "(array([2.000e+00, 1.000e+00, 3.000e+00, 6.500e+01, 8.030e+02, 3.208e+03,\n",
       "        3.790e+02, 2.900e+01, 1.000e+00, 9.000e+00]),\n",
       " array([-1. , -0.8, -0.6, -0.4, -0.2,  0. ,  0.2,  0.4,  0.6,  0.8,  1. ]),\n",
       " <a list of 10 Patch objects>)"
      ]
     },
     "execution_count": 12,
     "metadata": {},
     "output_type": "execute_result"
    },
    {
     "data": {
      "image/png": "[encoded data removed]",
      "text/plain": [
       "<Figure size 432x288 with 1 Axes>"
      ]
     },
     "metadata": {
      "needs_background": "light"
     },
     "output_type": "display_data"
    }
   ],
   "source": [
    "import matplotlib.pyplot as plt\n",
    "plt.hist(df_small_corpus.dic_based_score)"
   ]
  },
  {
   "cell_type": "markdown",
   "metadata": {},
   "source": [
    "*We see that sentiment scores are more concentrated in the middle and right which means reviews scored more as neutral and positive.*"
   ]
  },
  {
   "cell_type": "markdown",
   "metadata": {},
   "source": [
    "### *4.2 Correlation*"
   ]
  },
  {
   "cell_type": "markdown",
   "metadata": {},
   "source": [
    "*Let's see if there is any relationship between the ratings and the dictionary-based sentiment scores.*"
   ]
  },
  {
   "cell_type": "code",
   "execution_count": 13,
   "metadata": {},
   "outputs": [
    {
     "data": {
      "text/plain": [
       "Text(0, 0.5, 'Dictionary-based score')"
      ]
     },
     "execution_count": 13,
     "metadata": {},
     "output_type": "execute_result"
    },
    {
     "data": {
      "image/png": "[encoded data removed]",
      "text/plain": [
       "<Figure size 432x288 with 1 Axes>"
      ]
     },
     "metadata": {
      "needs_background": "light"
     },
     "output_type": "display_data"
    }
   ],
   "source": [
    "plt.scatter(df_small_corpus.rating, df_small_corpus.dic_based_score)\n",
    "plt.xlabel(\"Rating\")\n",
    "plt.ylabel(\"Dictionary-based score\")"
   ]
  },
  {
   "cell_type": "markdown",
   "metadata": {},
   "source": [
    "*We don't see any relationship from the above graph. The scores widely range for all the rating types. We expect very weak or no correllation between these two. The code below shows the pearson correlation coefficient between ratings and dictionary-based scores.*"
   ]
  },
  {
   "cell_type": "code",
   "execution_count": 14,
   "metadata": {},
   "outputs": [
    {
     "data": {
      "text/plain": [
       "0.3281536284169099"
      ]
     },
     "execution_count": 14,
     "metadata": {},
     "output_type": "execute_result"
    }
   ],
   "source": [
    "df_small_corpus.rating.corr(df_small_corpus.dic_based_score)"
   ]
  },
  {
   "cell_type": "markdown",
   "metadata": {},
   "source": [
    "*The correlation coefficients between 0.3 and 0.5 indicate low correlation.* "
   ]
  },
  {
   "cell_type": "markdown",
   "metadata": {},
   "source": [
    "### *4.3 Exploring the data*"
   ]
  },
  {
   "cell_type": "markdown",
   "metadata": {},
   "source": [
    "*Let's look into some of the reviews that has rating >=4 but got the sentiment score <= -0.2.*"
   ]
  },
  {
   "cell_type": "code",
   "execution_count": 15,
   "metadata": {},
   "outputs": [
    {
     "name": "stdout",
     "output_type": "stream",
     "text": [
      "but too expensive\n",
      "seems to help with a chronic problem with my hands. At this time I am skeptical of everything, but this actual does help for now\n",
      "I live in cold weather country and develop fissures on my fingers in the winter.  This product has prevented this painful condition.  It is a bit greasy but effective.\n",
      "It's exactly what you find off the shelf in store, without the hassle of finding which stores have it (more difficult than you'd think).\n"
     ]
    }
   ],
   "source": [
    "for i in range(len(df_small_corpus)):\n",
    "    if (df_small_corpus.rating[i] >= 4 and df_small_corpus.dic_based_score[i] <= -0.2):\n",
    "        print(df_small_corpus.iloc[i].reviews)"
   ]
  },
  {
   "cell_type": "markdown",
   "metadata": {},
   "source": [
    "*Let's look into some of the reviews that has rating <=2 but got the sentiment score over 0.2.*"
   ]
  },
  {
   "cell_type": "code",
   "execution_count": 55,
   "metadata": {},
   "outputs": [
    {
     "name": "stdout",
     "output_type": "stream",
     "text": [
      "well, same with HOODIA, no difference at all.  i gained weight instead. i will try another brand.  slim quick brand doesn't work with me.\n",
      "I was excited to get this product,  but it doesn't seem to do anything but leave a whitish, shiny residue under my eyes that I have to wipe off.  I just don't understand some of the other reviews.  You can't put make-up over top of the crud that it leaves behind. And how well can it work when I have to wipe it back off?\n",
      "Ended up selling this at a garage sale for $2.  It didn't work very well at all.  Would not recommend.\n",
      "I have oily skin, this cleanser is not strong enough to get rid of pimples.not working for me, maybe it is good for someone who has very minor breakouts.\n",
      "Blue appears to be black when it is dry. I was not pleased that it was not like the color portrayed.\n",
      "I didn't realize when I bought it that this is a fizzy Alka Seltzer like product. Since I don't like Alka Seltzer I don't like this product.\n",
      "I don't know if this oil is any good, but it will not work for me because I will not use it.  It is like pouring glue on your hair.\n",
      "The product works well but the smell makes it not worth using. There are products that work as well and don't stink!\n",
      "While this is a good product, it does not help the women of Ghana like certified Fair Trade shea butter does. AND you can find Fair Trade shea butter online for less than this. Please visit sites like this [...] to enjoy shea butter and support the women of Ghana.\n",
      "Not good\n",
      "I am looking for a good blade so I tried these. They are probably good for other people but my facial hair is to strong and need a much sharper blade. They didn't work well for me...\n",
      "Didn't impress me\n",
      "doesn't work\n",
      "Didn't work for me\n",
      "Did not work for me at all\n",
      "This cream is advertised as 25% but it does not work like a true 25% cream. I usually purchase a 15% glycolic acid from my dermatologist for about $ 45 and I was looking for a more cost effective alternative. This is not it. It does not work and feels like it is about a 5% concetration on my skin. I would not buy this product again.\n",
      "Who knows what they put in this container, definitely wasn't anything helpful or useful to my skin. Im sticking to products I know and trust. After a couple of weeks, no results or improvement I returned\n",
      "This product did not work for me.  I did not find that it was the right 'color' result, and i got a lot of streaking.  On the positive side, when i contacted the company they were very very helpful, offered an immediate refund and apologized that the product did not work for me.  (When it comes to self tanning products it is my experience that what works well for one person does not always work well for others)...So perhaps this product will work for you... and feel confident that if it doesn't, the company is great to deal with.\n",
      "Its like lotion.. not a clean feeling on my face after washing. more like i washed with lotion. not sure its for me\n",
      "I've had better results with much cheaper vitamins so... I wouldn't buy this again and wouldn't really recommend... but different mixtures work differently for people.\n",
      "Didn't work for me! But may work for you but it may work for you. I followed directions and nothing And not a difference\n",
      "No clean function, don't like it at all, will not order again.  I ordered other products and like it, not this one.\n",
      "It did not work\n",
      "We took it out of the box and set it up and it wouldn't even work. I wouldn't recommend this device.\n",
      "I suppose the product would have perfect, had I received what was advertised. A friend recommended this item to me.\n",
      "I have not bought this..nor will I!  I cannot believe that this is the correct price for a 4 ounce tube of hand cream. I was recommended to this product, that it works very well, BUT the price she paid was NO WAY in the neighborhood of $1000! Can this be a misprint???\n",
      "This lotion is terrible. No awesome colors boost and not a hot tingle at all. I always use a tingle lotion and was very excited about this product, I just ended up being very disappointed. I wouldn't recomend it to anybody. The only good thing about it, it goes on your skin very nicely, not greasy at all.\n",
      "What can I say.  It sounded ideal, but for me it lasted only say 2 or 3 hours.  It certainly didn't last the day.  Tom's stick seems to work well and much better.\n",
      "I have used (and loved) Australian Gold products in the past, but his didn't work at all, which makes me think that it may not be real.\n",
      "Not what I expected not really wowed about the piece.\n",
      "I ordered this product thinking I would be getting a firmer brush, instead it is so soft, it does not clean well.  Especially for acne, one would expect better cleansing of pores.\n",
      "For the price, I thought it would be a miracle hand conditioner and it seems to provide no real benefit.  I believe more beneficial products are out there for a better price.\n",
      "This is a nice light lotion but it doesn't seem very good for stretch marks. I do love their body butter though.\n",
      "I loved the previous formula - except for the waiting time for the whitish color to disappear  - but it worked.  This new version goes on clear, but it not as effective.  I am very sensitive to the sun, so this was not strong enough for me for the summer sun.\n",
      "This goes on white. Have to rub in good. Leaves skin shiny. Seems more like a straight sunscreen than a hydrating cream w/ sunscreen. Not very appealing for the face\n",
      "The eye cream is too thick.  It didn't help the fine lines that much no better than what I was using.\n",
      "I didn't think Finulite would be a miracle but I expected to work better than it did. I used it every day, every night, but didn't get any results. It smells good and feels nice, but I can't say it worked for me. I've had better results whit way cheaper products.\n",
      "Maybe its just me.  I didn't feel like that lotion is really hydrate my skin.Price is nice and maybe it works for others.\n",
      "I have sensitive/oil skin and sometimes drying. This kit is ok because it won't dry your skin like Proactiv, but it wasn't strong enough for my skin.\n",
      "Love them both. The coconut oil is better than I expected.  Works wonders for cooking and really makes my skin look twice as healthy.  My husband loves the woodsy scent of the lostion\n",
      "Great quality product BUT NOT for sensitive skin, my skin is still bright red and I used it yesterday. super bummed.\n",
      "I like St. Ives products, but I wasn't too happy with this.  I did not like the way that it felt on my face, and my complexion did not look that good when I was using it.\n",
      "It wasnt the best. I heard from other people that it was great and this and that. But honestly it wasnt worth it. At all...\n",
      "I like it but doesn't whiten at all,just like it for my face before make up,but doesn't do it's purpose\n",
      "I like the product fine, but not worth the money. I don't really like it any better than my drugstore creams.\n",
      "This worked well enough but I did not like the smell. It was extremely artificial (watermelon gum?) for a &#34;natural&#34; product.\n",
      "I do not like this mist very well. The express tan is much better.  I do really like the towels.\n",
      "This product allows for an instant cooling effect but does not seem to help at all for long term.  Sometimes I wonder if it is better for the body to heal itself or if an ointment is more helpful.  In this case, the ointment doesn't seem effective other than a cooling effect (which does not last long).\n",
      "This is not very well concentrated and is therefore not worth the price.  This sort of item is best bought in a local store.\n",
      "Fits my clarisonic fine. The texture and thickness of brissels are not as soft as clarisonic though.\n",
      "Have not seen any improvement.  So far this product is not worth sending for.  Like many products  I just do not see the results !\n",
      "was excited to use this product. been using it for 3 weeks now and not even one shade lighter. not for me, now I'm just going to have to learn to love my underarms the way they are.\n",
      "I tried this produce at the advise of my sister who thought it was good.  I didn't have any luck with it and found that my old products worked just as good or better.\n",
      "Everything was nice and closed up good, but that needle is pretty big to pierce any nose, I don't think they even pierce tongues with that size.\n",
      "Just not really impressed in it keeping or lengthening the color of my tan. Would not buy again. Not worth the $$$$\n",
      "So I bought thinking it would be super safe by my little one. Well it might be safe but it is like putting plaster on him. It gets really thick and is hard to spread so therefore I feel like he is not getting good coverage.\n",
      "Like the brand do not like this fragrance.  It is not as moisturizing as the other hand and body lotions.\n",
      "I was excited to try the product, I see no color however.Disappointed.  The Glow Pads are MUCH better with a nice tan\n",
      "Well I just got mines today I really hope it work I'll keep you guys updated am really excited to see if it gonna work for me\n",
      "This cream is good for refreshing other than that didn't do anything I bought two I finishes both with no results I do work out and drink plenty water but didn't do anything.\n",
      "Didn't have any noticeable difference in my acne, I'm sure it might work for some people but it didn't for me. Good luck!\n",
      "I really like it it is a good cram for the skin. i really recommend this product for all girls.\n",
      "I liked the product for all of the 4 times i got to use it. I can't believe how fast it is gone! I will definitely be asking for a refund! :(\n",
      "I've been using it for a month and I haven't noticed any progress. Maybe it'll start to work eventually, though.\n"
     ]
    }
   ],
   "source": [
    "for i in range(len(df_small_corpus)):\n",
    "    if (df_small_corpus.rating[i] <= 2 and df_small_corpus.dic_based_score[i] > 0.2):\n",
    "        print(df_small_corpus.iloc[i].reviews)"
   ]
  },
  {
   "cell_type": "markdown",
   "metadata": {},
   "source": [
    "*A review such as \"Ended up selling this at a garage sale for $2.  It didn't work very well at all.  Would not recommend.\n",
    "\" got scores above 0.2, because it includes the words 'work' and 'recommend' eventhough they followed 'not'. This problem can be solved by 'Negation handling'.*"
   ]
  },
  {
   "cell_type": "markdown",
   "metadata": {},
   "source": [
    "### *4.4 Negation handling*"
   ]
  },
  {
   "cell_type": "markdown",
   "metadata": {},
   "source": [
    "*We use mark_negation from nltk which appends _NEG suffix to words that appear in the scope between a negation and punctuation mark.*\n",
    "\n",
    "*Let's modify the tokenize() and sentiment_score() functions to handle negations.*\n"
   ]
  },
  {
   "cell_type": "code",
   "execution_count": 56,
   "metadata": {},
   "outputs": [],
   "source": [
    "import nltk.sentiment.util\n",
    "\n",
    "#Returns true if a word is alphabetic or inludes _NEG mark. \n",
    "def is_alpha_or_NEG(word):\n",
    "    if word.find('_NEG') != -1 :\n",
    "        return True\n",
    "    return word.isalpha()\n",
    "\n",
    "#Tokenizes text and remove non-alphabetic tokens as well as stopwords.  \n",
    "def tokenize(review, negation=False):\n",
    "    stop_words = stopwords.words('english')\n",
    "    sentences = sent_tokenize(review)\n",
    "    tokens = []\n",
    "    for sent in sentences:\n",
    "        sent = sent.lower()\n",
    "        words = word_tokenize(sent)\n",
    "        if negation:\n",
    "            with_negation = nltk.sentiment.util.mark_negation(words)\n",
    "            tokens += [word for word in with_negation if (is_alpha_or_NEG(word) and word not in stop_words)]\n",
    "        else:\n",
    "            tokens += [word for word in words if (word.isalpha() and word not in stop_words)]\n",
    "    return tokens\n",
    "\n",
    "#Calculates sentiment score for a review based on the counts of the positive and negative words it includes.\n",
    "def sentiment_score(review, negation=False):\n",
    "    tokens  = tokenize(review, negation)\n",
    "    pos = 0\n",
    "    neg = 0\n",
    "    for word in tokens:\n",
    "        if negation and word.find('_NEG') != -1:\n",
    "            mark_word = word.replace('_NEG', '')\n",
    "            if mark_word in pos_words:\n",
    "                neg += 1\n",
    "            elif mark_word in neg_words:\n",
    "                pos += 1\n",
    "            continue\n",
    "        if word in pos_words:\n",
    "            pos += 1\n",
    "        elif word in neg_words:\n",
    "            neg += 1\n",
    "    if len(tokens) > 0:\n",
    "        return (pos - neg) / len(tokens)\n",
    "    return 0"
   ]
  },
  {
   "cell_type": "markdown",
   "metadata": {},
   "source": [
    "*Let's see how much the negation handling helps the whole dataset in the next Section (Dictionary-based sentiment analysis (1/2)*"
   ]
  }
 ],
 "metadata": {
  "kernelspec": {
   "display_name": "Python 3",
   "language": "python",
   "name": "python3"
  },
  "language_info": {
   "codemirror_mode": {
    "name": "ipython",
    "version": 3
   },
   "file_extension": ".py",
   "mimetype": "text/x-python",
   "name": "python",
   "nbconvert_exporter": "python",
   "pygments_lexer": "ipython3",
   "version": "3.8.3"
  }
 },
 "nbformat": 4,
 "nbformat_minor": 4
}

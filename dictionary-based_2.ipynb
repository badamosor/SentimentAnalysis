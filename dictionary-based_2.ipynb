{
 "cells": [
  {
   "cell_type": "markdown",
   "metadata": {},
   "source": [
    " ### Sentiment analysis on skin care products"
   ]
  },
  {
   "cell_type": "markdown",
   "metadata": {},
   "source": [
    "# *Dictionary-based sentiment analysis (2/2)*"
   ]
  },
  {
   "cell_type": "markdown",
   "metadata": {},
   "source": [
    "*In this notebook, we are going to find out whether negation handling is effective or not. The Sections 1 and 2 are the same as the ones in the dictionary-based sentiment analysis (1/2).*"
   ]
  },
  {
   "cell_type": "markdown",
   "metadata": {},
   "source": [
    "##  1. Load the corpus"
   ]
  },
  {
   "cell_type": "code",
   "execution_count": 8,
   "metadata": {},
   "outputs": [],
   "source": [
    "import pandas as pd"
   ]
  },
  {
   "cell_type": "code",
   "execution_count": 9,
   "metadata": {},
   "outputs": [],
   "source": [
    "df_small_corpus  = pd.read_csv('small_corpus.csv')"
   ]
  },
  {
   "cell_type": "code",
   "execution_count": 10,
   "metadata": {
    "scrolled": true
   },
   "outputs": [
    {
     "data": {
      "text/html": [
       "<div>\n",
       "<style scoped>\n",
       "    .dataframe tbody tr th:only-of-type {\n",
       "        vertical-align: middle;\n",
       "    }\n",
       "\n",
       "    .dataframe tbody tr th {\n",
       "        vertical-align: top;\n",
       "    }\n",
       "\n",
       "    .dataframe thead th {\n",
       "        text-align: right;\n",
       "    }\n",
       "</style>\n",
       "<table border=\"1\" class=\"dataframe\">\n",
       "  <thead>\n",
       "    <tr style=\"text-align: right;\">\n",
       "      <th></th>\n",
       "      <th>reviews</th>\n",
       "      <th>rating</th>\n",
       "    </tr>\n",
       "  </thead>\n",
       "  <tbody>\n",
       "    <tr>\n",
       "      <th>0</th>\n",
       "      <td>I got soap in a bottle of what is supposted to...</td>\n",
       "      <td>1.0</td>\n",
       "    </tr>\n",
       "    <tr>\n",
       "      <th>1</th>\n",
       "      <td>I used this on my kids and my fair-skinned hus...</td>\n",
       "      <td>1.0</td>\n",
       "    </tr>\n",
       "    <tr>\n",
       "      <th>2</th>\n",
       "      <td>After months of emergency use simply because m...</td>\n",
       "      <td>1.0</td>\n",
       "    </tr>\n",
       "    <tr>\n",
       "      <th>3</th>\n",
       "      <td>The product is a facial cream, but the picture...</td>\n",
       "      <td>1.0</td>\n",
       "    </tr>\n",
       "    <tr>\n",
       "      <th>4</th>\n",
       "      <td>I have been buying olive derived 100% Squalane...</td>\n",
       "      <td>1.0</td>\n",
       "    </tr>\n",
       "  </tbody>\n",
       "</table>\n",
       "</div>"
      ],
      "text/plain": [
       "                                             reviews  rating\n",
       "0  I got soap in a bottle of what is supposted to...     1.0\n",
       "1  I used this on my kids and my fair-skinned hus...     1.0\n",
       "2  After months of emergency use simply because m...     1.0\n",
       "3  The product is a facial cream, but the picture...     1.0\n",
       "4  I have been buying olive derived 100% Squalane...     1.0"
      ]
     },
     "execution_count": 10,
     "metadata": {},
     "output_type": "execute_result"
    }
   ],
   "source": [
    "df_small_corpus.head()"
   ]
  },
  {
   "cell_type": "markdown",
   "metadata": {},
   "source": [
    "##  2. Get the opinion lexicon \n"
   ]
  },
  {
   "cell_type": "markdown",
   "metadata": {},
   "source": [
    "*We use opinion lexicon from nltk corpus package.*"
   ]
  },
  {
   "cell_type": "code",
   "execution_count": 11,
   "metadata": {},
   "outputs": [],
   "source": [
    "import nltk\n",
    "from nltk.corpus import opinion_lexicon"
   ]
  },
  {
   "cell_type": "code",
   "execution_count": 12,
   "metadata": {},
   "outputs": [],
   "source": [
    "pos_words = set(opinion_lexicon.positive())\n",
    "neg_words = set(opinion_lexicon.negative())"
   ]
  },
  {
   "cell_type": "markdown",
   "metadata": {},
   "source": [
    "*Let's check out the length of the each list.*"
   ]
  },
  {
   "cell_type": "code",
   "execution_count": 13,
   "metadata": {},
   "outputs": [
    {
     "data": {
      "text/plain": [
       "(2006, 4783)"
      ]
     },
     "execution_count": 13,
     "metadata": {},
     "output_type": "execute_result"
    }
   ],
   "source": [
    "len(pos_words), len(neg_words)"
   ]
  },
  {
   "cell_type": "markdown",
   "metadata": {},
   "source": [
    "##  3. Calculate the sentiment scores \n"
   ]
  },
  {
   "cell_type": "markdown",
   "metadata": {},
   "source": [
    "*If negation is True, the tokenize() function marks negations during the tokenization. Furthermore, if a token in the opinion lexicon is negatated, its polarity is counted as opposite.*"
   ]
  },
  {
   "cell_type": "code",
   "execution_count": 14,
   "metadata": {},
   "outputs": [],
   "source": [
    "import nltk.sentiment.util\n",
    "from nltk import word_tokenize, sent_tokenize\n",
    "from nltk.corpus import stopwords\n",
    "\n",
    "\n",
    "#Returns true if a word is alphabetic or inludes _NEG mark. \n",
    "def is_alpha_or_NEG(word):\n",
    "    if word.find('_NEG') != -1 :\n",
    "        return True\n",
    "    return word.isalpha()\n",
    "\n",
    "#Tokenizes text and remove non-alphabetic tokens as well as stopwords.  \n",
    "def tokenize(review, negation=False):\n",
    "    stop_words = stopwords.words('english')\n",
    "    sentences = sent_tokenize(review)\n",
    "    tokens = []\n",
    "    for sent in sentences:\n",
    "        sent = sent.lower()\n",
    "        words = word_tokenize(sent)\n",
    "        if negation:\n",
    "            with_negation = nltk.sentiment.util.mark_negation(words)\n",
    "            tokens += [word for word in with_negation if (is_alpha_or_NEG(word) and word not in stop_words)]\n",
    "        else:\n",
    "            tokens += [word for word in words if (word.isalpha() and word not in stop_words)]\n",
    "    return tokens\n",
    "\n",
    "#Calculates sentiment score for a review based on the counts of the positive and negative words it includes.\n",
    "def sentiment_score(review, negation=False):\n",
    "    tokens  = tokenize(review, negation)\n",
    "    pos = 0\n",
    "    neg = 0\n",
    "    for word in tokens:\n",
    "        if negation and word.find('_NEG') != -1:\n",
    "            mark_word = word.replace('_NEG', '')\n",
    "            if mark_word in pos_words:\n",
    "                neg += 1\n",
    "            elif mark_word in neg_words:\n",
    "                pos += 1\n",
    "            continue\n",
    "        if word in pos_words:\n",
    "            pos += 1\n",
    "        elif word in neg_words:\n",
    "            neg += 1\n",
    "    if len(tokens) > 0:\n",
    "        return (pos - neg) / len(tokens)\n",
    "    return 0"
   ]
  },
  {
   "cell_type": "markdown",
   "metadata": {},
   "source": [
    "*Calculating sentiment scores with and without negation handling for each review.*"
   ]
  },
  {
   "cell_type": "code",
   "execution_count": 15,
   "metadata": {},
   "outputs": [],
   "source": [
    "sentiment_scores  = [] #Stores sentiment scores without negation handling\n",
    "sentiment_scores_w_neg  = [] #Stores sentiment scores with negation handling\n",
    "\n",
    "reviews  = list(df_small_corpus.reviews) #All the review texts\n",
    "\n",
    "for review in reviews:\n",
    "    sentiment_scores.append(sentiment_score(review))\n",
    "    sentiment_scores_w_neg.append(sentiment_score(review, True))"
   ]
  },
  {
   "cell_type": "markdown",
   "metadata": {},
   "source": [
    "*Lets add the calculated sentiment_scores into the df_small_corpus.*"
   ]
  },
  {
   "cell_type": "code",
   "execution_count": 16,
   "metadata": {},
   "outputs": [],
   "source": [
    "df_small_corpus ['dic_based_score'] = sentiment_scores\n",
    "df_small_corpus ['dic_based_score_w_neg'] = sentiment_scores_w_neg"
   ]
  },
  {
   "cell_type": "code",
   "execution_count": 17,
   "metadata": {},
   "outputs": [
    {
     "data": {
      "text/html": [
       "<div>\n",
       "<style scoped>\n",
       "    .dataframe tbody tr th:only-of-type {\n",
       "        vertical-align: middle;\n",
       "    }\n",
       "\n",
       "    .dataframe tbody tr th {\n",
       "        vertical-align: top;\n",
       "    }\n",
       "\n",
       "    .dataframe thead th {\n",
       "        text-align: right;\n",
       "    }\n",
       "</style>\n",
       "<table border=\"1\" class=\"dataframe\">\n",
       "  <thead>\n",
       "    <tr style=\"text-align: right;\">\n",
       "      <th></th>\n",
       "      <th>reviews</th>\n",
       "      <th>rating</th>\n",
       "      <th>dic_based_score</th>\n",
       "      <th>dic_based_score_w_neg</th>\n",
       "    </tr>\n",
       "  </thead>\n",
       "  <tbody>\n",
       "    <tr>\n",
       "      <th>0</th>\n",
       "      <td>I got soap in a bottle of what is supposted to...</td>\n",
       "      <td>1.0</td>\n",
       "      <td>0.000000</td>\n",
       "      <td>0.000000</td>\n",
       "    </tr>\n",
       "    <tr>\n",
       "      <th>1</th>\n",
       "      <td>I used this on my kids and my fair-skinned hus...</td>\n",
       "      <td>1.0</td>\n",
       "      <td>0.038462</td>\n",
       "      <td>0.031250</td>\n",
       "    </tr>\n",
       "    <tr>\n",
       "      <th>2</th>\n",
       "      <td>After months of emergency use simply because m...</td>\n",
       "      <td>1.0</td>\n",
       "      <td>0.028986</td>\n",
       "      <td>-0.021053</td>\n",
       "    </tr>\n",
       "    <tr>\n",
       "      <th>3</th>\n",
       "      <td>The product is a facial cream, but the picture...</td>\n",
       "      <td>1.0</td>\n",
       "      <td>-0.031250</td>\n",
       "      <td>-0.020408</td>\n",
       "    </tr>\n",
       "    <tr>\n",
       "      <th>4</th>\n",
       "      <td>I have been buying olive derived 100% Squalane...</td>\n",
       "      <td>1.0</td>\n",
       "      <td>0.065789</td>\n",
       "      <td>0.058140</td>\n",
       "    </tr>\n",
       "    <tr>\n",
       "      <th>...</th>\n",
       "      <td>...</td>\n",
       "      <td>...</td>\n",
       "      <td>...</td>\n",
       "      <td>...</td>\n",
       "    </tr>\n",
       "    <tr>\n",
       "      <th>4495</th>\n",
       "      <td>I use it before bed with Speedlash eyelash gro...</td>\n",
       "      <td>5.0</td>\n",
       "      <td>-0.133333</td>\n",
       "      <td>0.000000</td>\n",
       "    </tr>\n",
       "    <tr>\n",
       "      <th>4496</th>\n",
       "      <td>It might be generic but it does the job withou...</td>\n",
       "      <td>5.0</td>\n",
       "      <td>0.181818</td>\n",
       "      <td>0.181818</td>\n",
       "    </tr>\n",
       "    <tr>\n",
       "      <th>4497</th>\n",
       "      <td>I have been using this eye cream for about a y...</td>\n",
       "      <td>5.0</td>\n",
       "      <td>0.054054</td>\n",
       "      <td>0.054054</td>\n",
       "    </tr>\n",
       "    <tr>\n",
       "      <th>4498</th>\n",
       "      <td>Exactly as pictured Great product. Will order ...</td>\n",
       "      <td>5.0</td>\n",
       "      <td>0.100000</td>\n",
       "      <td>0.250000</td>\n",
       "    </tr>\n",
       "    <tr>\n",
       "      <th>4499</th>\n",
       "      <td>My husband has been using this for over 2 year...</td>\n",
       "      <td>5.0</td>\n",
       "      <td>0.260870</td>\n",
       "      <td>0.260870</td>\n",
       "    </tr>\n",
       "  </tbody>\n",
       "</table>\n",
       "<p>4500 rows × 4 columns</p>\n",
       "</div>"
      ],
      "text/plain": [
       "                                                reviews  rating  \\\n",
       "0     I got soap in a bottle of what is supposted to...     1.0   \n",
       "1     I used this on my kids and my fair-skinned hus...     1.0   \n",
       "2     After months of emergency use simply because m...     1.0   \n",
       "3     The product is a facial cream, but the picture...     1.0   \n",
       "4     I have been buying olive derived 100% Squalane...     1.0   \n",
       "...                                                 ...     ...   \n",
       "4495  I use it before bed with Speedlash eyelash gro...     5.0   \n",
       "4496  It might be generic but it does the job withou...     5.0   \n",
       "4497  I have been using this eye cream for about a y...     5.0   \n",
       "4498  Exactly as pictured Great product. Will order ...     5.0   \n",
       "4499  My husband has been using this for over 2 year...     5.0   \n",
       "\n",
       "      dic_based_score  dic_based_score_w_neg  \n",
       "0            0.000000               0.000000  \n",
       "1            0.038462               0.031250  \n",
       "2            0.028986              -0.021053  \n",
       "3           -0.031250              -0.020408  \n",
       "4            0.065789               0.058140  \n",
       "...               ...                    ...  \n",
       "4495        -0.133333               0.000000  \n",
       "4496         0.181818               0.181818  \n",
       "4497         0.054054               0.054054  \n",
       "4498         0.100000               0.250000  \n",
       "4499         0.260870               0.260870  \n",
       "\n",
       "[4500 rows x 4 columns]"
      ]
     },
     "execution_count": 17,
     "metadata": {},
     "output_type": "execute_result"
    }
   ],
   "source": [
    "df_small_corpus"
   ]
  },
  {
   "cell_type": "markdown",
   "metadata": {},
   "source": [
    "##  4. Experiment and Result\n"
   ]
  },
  {
   "cell_type": "markdown",
   "metadata": {},
   "source": [
    "### *4.1 Converting the ratings and scores into the same scale*"
   ]
  },
  {
   "cell_type": "markdown",
   "metadata": {},
   "source": [
    "*In order to measure how accurate the dictionary-based method, we need to convert the ratings and dictionary-based scores into the same scale.*\n",
    "\n",
    "*Here we convert the sentiment scores and ratings into three categories such as positive, negative or neutral.* \n",
    "\n",
    "*The categories positive, negative, and neutral are labeled as 2, 0, and 1, respectively.* "
   ]
  },
  {
   "cell_type": "code",
   "execution_count": 18,
   "metadata": {},
   "outputs": [],
   "source": [
    "# Returns 2, 1, or 0 based on the given score and threshold. \n",
    "def label(score, thresh):\n",
    "    #postive threshold\n",
    "    if round(score,2) >= thresh[0]:\n",
    "        return 2\n",
    "    #negative threshold\n",
    "    if round(score,2) <= thresh[1]:\n",
    "        return 0\n",
    "    return 1"
   ]
  },
  {
   "cell_type": "markdown",
   "metadata": {},
   "source": [
    "*We define ratings 4 and 5 as positive, 1 and 2 as negative, 3 as neutral. Let's save the converted ratings in \"target\".*"
   ]
  },
  {
   "cell_type": "code",
   "execution_count": 19,
   "metadata": {},
   "outputs": [],
   "source": [
    "target = []\n",
    "for i in range(len(df_small_corpus)):\n",
    "    target.append(label(df_small_corpus.rating[i], (4, 2)))"
   ]
  },
  {
   "cell_type": "markdown",
   "metadata": {},
   "source": [
    "*We converted the rating values (1.0 to 5.0) into the 0 (negative), 1 (neutral) and 2 (positive) labels.*\n",
    "\n",
    "*However, we don't know what is the best threshold for dictionary-based scores when we divide into labels. The find_best_threshold() function calculates accuracies for different threshold values and prints the threshold that has the highest accuracy.*\n",
    "\n",
    "*The accuracy is calculated by sklearn.metrics's accuracy_score which takes target labels and predictions.*"
   ]
  },
  {
   "cell_type": "code",
   "execution_count": 26,
   "metadata": {},
   "outputs": [],
   "source": [
    "from sklearn.metrics import accuracy_score\n",
    "import numpy as np\n",
    "\n",
    "def find_best_threshold():\n",
    "    best_acc = 0\n",
    "    best_thresh = ()\n",
    "    for num in np.arange(0.01, 1.01, 0.01):\n",
    "        sent_label = []\n",
    "        thresh = (num, -num)\n",
    "        for i in range(len(df_small_corpus)):\n",
    "            #Label with the thresholds\n",
    "            sent_label.append(label(df_small_corpus.dic_based_score[i], thresh))\n",
    "        acc = accuracy_score(target, sent_label) \n",
    "        if acc > best_acc:\n",
    "            best_acc = acc\n",
    "            best_thresh = thresh\n",
    "    print(best_thresh, best_acc)"
   ]
  },
  {
   "cell_type": "code",
   "execution_count": 33,
   "metadata": {},
   "outputs": [
    {
     "name": "stdout",
     "output_type": "stream",
     "text": [
      "(0.01, -0.01) 0.44266666666666665\n"
     ]
    }
   ],
   "source": [
    "find_best_threshold()"
   ]
  },
  {
   "cell_type": "markdown",
   "metadata": {},
   "source": [
    "*As a result of find_best_threshold(), the best threshold was (0.01 and -0.01). So, if the score is over 0.01, it is labeled as positive (2) and if the score is below -0.01, it is labeld as negative(0). For the other values, it is labeled as neutral (1).*"
   ]
  },
  {
   "cell_type": "markdown",
   "metadata": {},
   "source": [
    "### *4.2 Accuracy of the dictionary-based method*"
   ]
  },
  {
   "cell_type": "markdown",
   "metadata": {},
   "source": [
    "*Based on the threshold values we found in 4.1, lets convert the dictionary-based scores into labels.*"
   ]
  },
  {
   "cell_type": "code",
   "execution_count": 27,
   "metadata": {},
   "outputs": [],
   "source": [
    "#Store labels\n",
    "sent_label = []  #sentiment labels without negation handling\n",
    "sent_label_w_neg = [] #sentiment labels with negation handling\n",
    "\n",
    "#Store accuracies\n",
    "acc_sent_label = []   #accuracies of sent_label\n",
    "acc_sent_label_w_neg = [] #accuracies of sent_label_w_neg\n",
    "\n",
    "# Convert scores into labels\n",
    "for i in range(len(df_small_corpus)):\n",
    "    sent_label.append(label(df_small_corpus.dic_based_score[i], (0.01, -0.01)))\n",
    "    sent_label_w_neg.append(label(df_small_corpus.dic_based_score_w_neg[i], (0.01, -0.01)))\n",
    "\n",
    "# Calculate cumulative accuracies     \n",
    "for j in range(100, len(df_small_corpus)):\n",
    "    acc_sent_label.append(accuracy_score(target[0:j], sent_label[0:j]))\n",
    "    acc_sent_label_w_neg.append(accuracy_score(target[0:j], sent_label_w_neg[0:j]))"
   ]
  },
  {
   "cell_type": "markdown",
   "metadata": {},
   "source": [
    "*Let's plot the accuracies.*"
   ]
  },
  {
   "cell_type": "code",
   "execution_count": 28,
   "metadata": {},
   "outputs": [
    {
     "data": {
      "image/png": "[encoded data removed]",
      "text/plain": [
       "<Figure size 432x288 with 1 Axes>"
      ]
     },
     "metadata": {
      "needs_background": "light"
     },
     "output_type": "display_data"
    }
   ],
   "source": [
    "import matplotlib.pyplot as plt\n",
    "plt.plot(range(len(acc_sent_label_w_neg)), acc_sent_label_w_neg, label='WITH negation', color='red')\n",
    "plt.plot(range(len(acc_sent_label)), acc_sent_label, label='WITHOUT negation', color='green' )\n",
    "plt.legend()\n",
    "plt.xlabel('Number of reviews')\n",
    "plt.ylabel('Accuracy')\n",
    "plt.show()"
   ]
  },
  {
   "cell_type": "markdown",
   "metadata": {},
   "source": [
    "*The above graph shows the accuracies of the dictionary-based sentiment analysis for the reviews. The accuracies were higher when we handled negation.* "
   ]
  },
  {
   "cell_type": "markdown",
   "metadata": {},
   "source": [
    "*Now, let's see the detailed measures using classification_report from sklearn.metrics.*"
   ]
  },
  {
   "cell_type": "code",
   "execution_count": 29,
   "metadata": {},
   "outputs": [],
   "source": [
    "from sklearn.metrics import classification_report\n",
    "target_names = ['Negative', 'Neutral', 'Positive']"
   ]
  },
  {
   "cell_type": "code",
   "execution_count": 30,
   "metadata": {},
   "outputs": [
    {
     "name": "stdout",
     "output_type": "stream",
     "text": [
      "              precision    recall  f1-score   support\n",
      "\n",
      "    Negative       0.58      0.34      0.43      1500\n",
      "     Neutral       0.37      0.16      0.23      1500\n",
      "    Positive       0.42      0.83      0.56      1500\n",
      "\n",
      "    accuracy                           0.44      4500\n",
      "   macro avg       0.46      0.44      0.40      4500\n",
      "weighted avg       0.46      0.44      0.40      4500\n",
      "\n"
     ]
    }
   ],
   "source": [
    "print(classification_report(target, sent_label, target_names=target_names))"
   ]
  },
  {
   "cell_type": "code",
   "execution_count": 31,
   "metadata": {},
   "outputs": [
    {
     "name": "stdout",
     "output_type": "stream",
     "text": [
      "              precision    recall  f1-score   support\n",
      "\n",
      "    Negative       0.56      0.48      0.51      1500\n",
      "     Neutral       0.40      0.20      0.27      1500\n",
      "    Positive       0.48      0.78      0.59      1500\n",
      "\n",
      "    accuracy                           0.49      4500\n",
      "   macro avg       0.48      0.49      0.46      4500\n",
      "weighted avg       0.48      0.49      0.46      4500\n",
      "\n"
     ]
    }
   ],
   "source": [
    "print(classification_report(target, sent_label_w_neg, target_names=target_names))"
   ]
  },
  {
   "cell_type": "markdown",
   "metadata": {},
   "source": [
    "*The overall accuracies were 0.44 and 0.49 for without and with negation, respectively. The f1-scores were the lowest for the neutral label. If we look the neutral label, the recall values were lowest among the others. This means that the most of the neutral reviews were not classified correctly.* \n",
    "\n",
    "*Looking at the graph below, the most reviews were classified as 2 (positive).*"
   ]
  },
  {
   "cell_type": "code",
   "execution_count": 62,
   "metadata": {},
   "outputs": [
    {
     "data": {
      "image/png": "[encoded data removed]",
      "text/plain": [
       "<Figure size 432x288 with 1 Axes>"
      ]
     },
     "metadata": {
      "needs_background": "light"
     },
     "output_type": "display_data"
    }
   ],
   "source": [
    "plt.hist([sent_label, sent_label_w_neg, target],  label=['WITHOUT negation', 'WITH negation', 'Target'])\n",
    "plt.xlabel(\"Label\")\n",
    "plt.ylabel(\"Number of reviews\")\n",
    "plt.legend()\n",
    "plt.show()"
   ]
  },
  {
   "cell_type": "markdown",
   "metadata": {},
   "source": [
    "##  5. Conclusion\n"
   ]
  },
  {
   "cell_type": "markdown",
   "metadata": {},
   "source": [
    "*In this notebook, we implemented dictionary-based sentiment analysis. We classified the reviews into three classes such as negative, neutral and positive. Our classification accuracy was higher when we handled negations.*\n",
    "\n",
    "*The dictionary-based method is simple and easy to implement, but it has limitations since it considers only the words in the dictionary. For example \"The veins are still there, red as ever\" does not include any opinion words, but expresses negative opinion for skin care products. Therefore we need to consider words that are not in the dictionary as well.*   "
   ]
  }
 ],
 "metadata": {
  "kernelspec": {
   "display_name": "Python 3",
   "language": "python",
   "name": "python3"
  },
  "language_info": {
   "codemirror_mode": {
    "name": "ipython",
    "version": 3
   },
   "file_extension": ".py",
   "mimetype": "text/x-python",
   "name": "python",
   "nbconvert_exporter": "python",
   "pygments_lexer": "ipython3",
   "version": "3.8.3"
  }
 },
 "nbformat": 4,
 "nbformat_minor": 4
}
